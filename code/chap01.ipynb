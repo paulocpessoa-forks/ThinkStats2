{
 "cells": [
  {
   "cell_type": "markdown",
   "metadata": {},
   "source": [
    "- [Chapter 1: Exploratory data analysis](#chapter1)\n",
    "    - [1.1 A statistical approach](#subchapter1.1)\n",
    "    - [1.2 The National Survey of Family Growth](#subchapter1.2)\n",
    "    - [1.3 Importing the data](#subchapter1.3)\n",
    "    - [1.4 DataFrames](#subchapter1.4)\n",
    "    - [1.5 Variables](#subchapter1.5)\n",
    "    - [1.6 Transformation](#subchapter1.6)\n",
    "    - [1.7 Validation](#subchapter1.7)\n",
    "    - [1.8 Interpretation](#subchapter1.8)\n",
    "    - [1.9 Exercises](#subchapter1.9)\n",
    "    - [1.10 Glossary](#subchapter1.10)"
   ]
  },
  {
   "cell_type": "markdown",
   "metadata": {},
   "source": [
    "<a id='chapter1'></a>\n",
    "# Chapter 1: Exploratory data analysis"
   ]
  },
  {
   "cell_type": "markdown",
   "metadata": {},
   "source": [
    "The thesis of the book is that data combined with practical methods can answer questions and guide decisions under uncertainty.\n",
    "\n",
    "The writer uses a real life example regarding the assumption that first babies tend to arrive late. The personal stories people tell to confirm this theory are <i>anacdotal evidence</i>, since these reports are based on data that is unpublished and usually personal. \n",
    "\n",
    "Anacdotal evidence usually fails to give a persuasive and reliable answer to questions such as these, as a result of: \n",
    "- <b>Small number of observations</b>: A large sample of data is needed in order to be sure the difference exists.\n",
    "- <b>Selection bias</b>: People who join the discussion might be interested <b>because</b> their baby was late.\n",
    "- <b>Confirmation bias</b>: People who believe the claim may be more likely to contribute examples to confirm it.\n",
    "- <b>Inaccuracy</b>: Anacdotes are often personal stories, and often misremembered, misrepresented or repeated inaccurately.\n",
    "\n",
    "So, how can we do better?"
   ]
  },
  {
   "cell_type": "markdown",
   "metadata": {},
   "source": [
    "<a id='subchapter1.1'></a>\n",
    "## 1.1 A statistical approach"
   ]
  },
  {
   "cell_type": "markdown",
   "metadata": {},
   "source": [
    "We will use the tools of statistics to adress the limitations of anacdotes. These tools include: \n",
    "\n",
    "- <b>Data collection</b>: Specifically we'll use the National Survey of Family Growth.\n",
    "- <b>Descriptive statistics</b>: We will summarize and visualize the data through statistics.\n",
    "- <b>Exploratory data analysis</b>: We will look for patterns, differences, and other features that adress the questions we're interested in.\n",
    "- <b>Estimation</b>: We will use data from a sample to estimate characteristics of the general population.\n",
    "- <b>Hypothesis testing</b>: Where we see apparent effects, we will evaluate whether or not the effect might have happened by chance.\n"
   ]
  },
  {
   "cell_type": "markdown",
   "metadata": {},
   "source": [
    "<a id='subchapter1.2'></a>\n",
    "## 1.2 The National Survey of Family Growth"
   ]
  },
  {
   "cell_type": "markdown",
   "metadata": {},
   "source": [
    "[The National Survey of Family Growth](http://www.cdc.gov/nchs/nsfg/about_nsfg.htm) (NSFG) is a survey conducted in the US by the CDC since 1973, in order to collect data about health, families etc. \n",
    "\n",
    "About the design of the study: \n",
    "- <b>Cross-sectional</b>: Captures a snapshot of a group at a point in time (As opposed to a <b>longitudinal</b> study which observes a group repeatedly over a period of time).\n",
    "- <b>Conducted in cycles</b>: The survey has been conducted several times, each of them referred to as <b>cycle</b>. In this book we'll use data from cycle 6.\n",
    "- <b>Data was collected from a subset of the population</b>: From the sample data, we aim to draw conclusions about the entire US population. The people who participate in a survey are called <b>respondents</b>.\n",
    "- <b>Oversampled</b>: In general, cross-sectional studies are meant to be <b>representative</b>, which means that every member of the target population has an equal chance of participating. The NSFG is not representative. Instead it is deliberately <b>oversampled</b>, which means the designers of the samples recruited three groups at higher rates than their representation in the US population. These three groups are Hispanic, African Americans and teenagers. The reason was to make sure that the number of respondents in each of these groups is large enough to draw valid statistical inference.\n",
    "- <b>Codebook</b>: When working with this kind of data, it is important to be familiar with the [codebook](http://www.cdc.gov/nchs/nsfg/nsfg_cycle6.htm) which documents the design of the study, the survey questions, etc."
   ]
  },
  {
   "cell_type": "markdown",
   "metadata": {},
   "source": [
    "<a id='subchapter1.3'></a>\n",
    "## 1.3 Importing the data"
   ]
  },
  {
   "cell_type": "markdown",
   "metadata": {},
   "source": [
    "The original code and data used in this book are available [here](https://github.com/AllenDowney/ThinkStats2). Running the code from file <b>nsfg.py</b> should read the data file, run some tests and print a message like, \"All tests passed.\" "
   ]
  },
  {
   "cell_type": "code",
   "execution_count": 1,
   "metadata": {
    "collapsed": false,
    "scrolled": false
   },
   "outputs": [
    {
     "name": "stdout",
     "output_type": "stream",
     "text": [
      "(13593, 244)\n",
      "All tests passed.\n"
     ]
    }
   ],
   "source": [
    "%run nsfg.py"
   ]
  },
  {
   "cell_type": "markdown",
   "metadata": {},
   "source": [
    "At the top of the file we import libraries and packages we intend to use in the file:"
   ]
  },
  {
   "cell_type": "code",
   "execution_count": 2,
   "metadata": {
    "collapsed": false
   },
   "outputs": [],
   "source": [
    "\"\"\"This file contains code for use with \"Think Stats\",\n",
    "by Allen B. Downey, available from greenteapress.com\n",
    "\n",
    "Copyright 2010 Allen B. Downey\n",
    "License: GNU GPLv3 http://www.gnu.org/licenses/gpl.html\n",
    "\"\"\"\n",
    "\n",
    "from __future__ import print_function\n",
    "\n",
    "from collections import defaultdict\n",
    "import numpy as np\n",
    "import sys\n",
    "\n",
    "import thinkstats2"
   ]
  },
  {
   "cell_type": "markdown",
   "metadata": {},
   "source": [
    "Pregnancy data from Cycle 6 of the NSFG is in a file called <b>2002FemPreg.dat.gz</b>. This is a gzip-compressed data file in plain text (ASCII), with fixed width columns. Each line in this file is a <b>record</b> that contains data about one pregnancy.\n",
    "\n",
    "This is how the first 3 lines of data looks like in this file:"
   ]
  },
  {
   "cell_type": "code",
   "execution_count": 6,
   "metadata": {
    "collapsed": false
   },
   "outputs": [
    {
     "name": "stdout",
     "output_type": "stream",
     "text": [
      "[b'           1 1     6 1     11093 1084     9 039 9   0  1 813             1093 13837                        1                5                                                                        116610931166 9201093                111             3    1   12  11         5391 110933316108432411211     2995 1212 69544441116122222 2 2224693215    000000000000000000000000000000000000003410.38939935294273869.3496019830486 6448.2711117047512 91231\\n', b'           1 2     6 1     11166 1157     9 039 9   0  2 714             1166  6542112  2  05 1 4  5       51               1   41  4  201 20                                                        1166109311661093116611661231        111             3    1   14  11         5391 211663925115738501211 2 432 8701414 69544441116122222 2 2224693215    000000000000000000000000000000000000003410.38939935294273869.3496019830486 6448.2711117047512 91231\\n', b'           2 1     5 35    11156 1147     03939 9   0  1 9 2 2 2 0 1 1 4 1156  7524                        51               5                5551156      0                5551156      0            12041156120411531156                5          55         4  5 5511         5391 111561433114713585165     2995 5555 98420205611 71232 3 5321002315    00000000000000000000000000000000000000 7226.301739584323 8567.54910985691812999.5422643859022121231\\n']\n"
     ]
    }
   ],
   "source": [
    "import gzip\n",
    "\n",
    "with gzip.open('2002FemPreg.dat.gz', 'r') as dat_example:\n",
    "    head = [next(dat_example) for x in range(3)]\n",
    "print(head)"
   ]
  },
  {
   "cell_type": "markdown",
   "metadata": {},
   "source": [
    "The format of this file is documented in <b>2002FemPreg.dct</b>, which is a Stata dictionary file. Stata is a statistical software system. A dictionary in this context is a list of variable names, types and indices that identify where in each line to find each variable. \n",
    "\n",
    "For example, here is a few lines from this .dct file:"
   ]
  },
  {
   "cell_type": "code",
   "execution_count": 8,
   "metadata": {
    "collapsed": false
   },
   "outputs": [
    {
     "name": "stdout",
     "output_type": "stream",
     "text": [
      "['infile dictionary {\\n', '    _column(1)      str12                             caseid  %12s  \"RESPONDENT ID NUMBER\"\\n', '   _column(13)       byte                           pregordr   %2f  \"PREGNANCY ORDER (NUMBER)\"\\n']\n"
     ]
    }
   ],
   "source": [
    "with open('2002FemPreg.dct', 'r') as dct_example:\n",
    "    head = [next(dct_example) for x in range(3)]\n",
    "print(head)"
   ]
  },
  {
   "cell_type": "markdown",
   "metadata": {},
   "source": [
    "By using the module <i>thinkstats2</i> we can preview the data in a formatted and clean way:"
   ]
  },
  {
   "cell_type": "code",
   "execution_count": 9,
   "metadata": {
    "collapsed": false,
    "scrolled": true
   },
   "outputs": [
    {
     "ename": "FileNotFoundError",
     "evalue": "[Errno 2] No such file or directory: 'data/2002FemPreg.dct'",
     "output_type": "error",
     "traceback": [
      "\u001b[1;31m---------------------------------------------------------------------------\u001b[0m",
      "\u001b[1;31mFileNotFoundError\u001b[0m                         Traceback (most recent call last)",
      "\u001b[1;32m<ipython-input-9-59ca4a5e12fc>\u001b[0m in \u001b[0;36m<module>\u001b[1;34m\u001b[0m\n\u001b[0;32m      8\u001b[0m     \u001b[0mreturns\u001b[0m\u001b[1;33m:\u001b[0m \u001b[0mDataFrame\u001b[0m\u001b[1;33m\u001b[0m\u001b[1;33m\u001b[0m\u001b[0m\n\u001b[0;32m      9\u001b[0m     \"\"\"\n\u001b[1;32m---> 10\u001b[1;33m \u001b[0mdct\u001b[0m \u001b[1;33m=\u001b[0m \u001b[0mthinkstats2\u001b[0m\u001b[1;33m.\u001b[0m\u001b[0mReadStataDct\u001b[0m\u001b[1;33m(\u001b[0m\u001b[0mdct_file\u001b[0m\u001b[1;33m)\u001b[0m\u001b[1;33m\u001b[0m\u001b[1;33m\u001b[0m\u001b[0m\n\u001b[0m\u001b[0;32m     11\u001b[0m \u001b[0mdf\u001b[0m \u001b[1;33m=\u001b[0m \u001b[0mdct\u001b[0m\u001b[1;33m.\u001b[0m\u001b[0mReadFixedWidth\u001b[0m\u001b[1;33m(\u001b[0m\u001b[0mdat_file\u001b[0m\u001b[1;33m,\u001b[0m \u001b[0mcompression\u001b[0m\u001b[1;33m=\u001b[0m\u001b[1;34m'gzip'\u001b[0m\u001b[1;33m)\u001b[0m\u001b[1;33m\u001b[0m\u001b[1;33m\u001b[0m\u001b[0m\n\u001b[0;32m     12\u001b[0m \u001b[0mCleanFemPreg\u001b[0m\u001b[1;33m(\u001b[0m\u001b[0mdf\u001b[0m\u001b[1;33m)\u001b[0m\u001b[1;33m\u001b[0m\u001b[1;33m\u001b[0m\u001b[0m\n",
      "\u001b[1;32mC:\\git\\ThinkStats2\\code\\thinkstats2.py\u001b[0m in \u001b[0;36mReadStataDct\u001b[1;34m(dct_file, **options)\u001b[0m\n\u001b[0;32m   2644\u001b[0m \u001b[1;33m\u001b[0m\u001b[0m\n\u001b[0;32m   2645\u001b[0m     \u001b[0mvar_info\u001b[0m \u001b[1;33m=\u001b[0m \u001b[1;33m[\u001b[0m\u001b[1;33m]\u001b[0m\u001b[1;33m\u001b[0m\u001b[1;33m\u001b[0m\u001b[0m\n\u001b[1;32m-> 2646\u001b[1;33m     \u001b[1;32mfor\u001b[0m \u001b[0mline\u001b[0m \u001b[1;32min\u001b[0m \u001b[0mopen\u001b[0m\u001b[1;33m(\u001b[0m\u001b[0mdct_file\u001b[0m\u001b[1;33m,\u001b[0m \u001b[1;33m**\u001b[0m\u001b[0moptions\u001b[0m\u001b[1;33m)\u001b[0m\u001b[1;33m:\u001b[0m\u001b[1;33m\u001b[0m\u001b[1;33m\u001b[0m\u001b[0m\n\u001b[0m\u001b[0;32m   2647\u001b[0m         \u001b[0mmatch\u001b[0m \u001b[1;33m=\u001b[0m \u001b[0mre\u001b[0m\u001b[1;33m.\u001b[0m\u001b[0msearch\u001b[0m\u001b[1;33m(\u001b[0m \u001b[1;34mr'_column\\(([^)]*)\\)'\u001b[0m\u001b[1;33m,\u001b[0m \u001b[0mline\u001b[0m\u001b[1;33m)\u001b[0m\u001b[1;33m\u001b[0m\u001b[1;33m\u001b[0m\u001b[0m\n\u001b[0;32m   2648\u001b[0m         \u001b[1;32mif\u001b[0m \u001b[0mmatch\u001b[0m\u001b[1;33m:\u001b[0m\u001b[1;33m\u001b[0m\u001b[1;33m\u001b[0m\u001b[0m\n",
      "\u001b[1;31mFileNotFoundError\u001b[0m: [Errno 2] No such file or directory: 'data/2002FemPreg.dct'"
     ]
    }
   ],
   "source": [
    "dct_file='data/2002FemPreg.dct'\n",
    "dat_file='data/2002FemPreg.dat.gz'\n",
    "\"\"\"Reads the NSFG pregnancy data.\n",
    "\n",
    "    dct_file: string file name\n",
    "    dat_file: string file name\n",
    "\n",
    "    returns: DataFrame\n",
    "    \"\"\"\n",
    "dct = thinkstats2.ReadStataDct(dct_file)\n",
    "df = dct.ReadFixedWidth(dat_file, compression='gzip')\n",
    "CleanFemPreg(df)\n",
    "print(df.head())"
   ]
  },
  {
   "cell_type": "markdown",
   "metadata": {},
   "source": [
    "The function <i>ReadFemPreg</i> takes a name of the dictionary file and returns a dct, a <i>FixedWidthVariables</i> object that contains the information from the dictionary file."
   ]
  },
  {
   "cell_type": "code",
   "execution_count": null,
   "metadata": {
    "collapsed": false
   },
   "outputs": [],
   "source": [
    "def ReadFemPreg(dct_file='data/2006_2010_FemPregSetup.dct',\n",
    "                dat_file='data/2006_2010_FemPreg.dat.gz'):\n",
    "    \"\"\"Reads the NSFG 2006-2010 pregnancy data.\n",
    "    dct_file: string file name\n",
    "    dat_file: string file name\n",
    "    returns: DataFrame\n",
    "    \"\"\"\n",
    "    dct = thinkstats2.ReadStataDct(dct_file, encoding='iso-8859-1')\n",
    "    df = dct.ReadFixedWidth(dat_file, compression='gzip')\n",
    "    CleanFemPreg(df)\n",
    "    return df"
   ]
  },
  {
   "cell_type": "markdown",
   "metadata": {},
   "source": [
    "<a id='subchapter1.4'></a>\n",
    "## 1.4 DataFrames"
   ]
  },
  {
   "cell_type": "markdown",
   "metadata": {},
   "source": [
    "The result of <i>ReadFixedWidth</i> is a DataFrame, which is the fundamental data structure provided by Pandas, which is a Python data and statistics package. A DataFrame contains a row for each record, and a column for each variable. In addition, it contains the variable names and types, and it provides methods for accessing and modifying the data.\n",
    "\n",
    "Here is a list of useful commands to get yourself used to working with DataFrames:"
   ]
  },
  {
   "cell_type": "markdown",
   "metadata": {},
   "source": [
    "Since df is big, this next command will only print the beginning and the end of the df, and specify its dimensions at the bottom"
   ]
  },
  {
   "cell_type": "code",
   "execution_count": 4,
   "metadata": {
    "collapsed": false
   },
   "outputs": [
    {
     "ename": "NameError",
     "evalue": "name 'df' is not defined",
     "output_type": "error",
     "traceback": [
      "\u001b[1;31m---------------------------------------------------------------------------\u001b[0m",
      "\u001b[1;31mNameError\u001b[0m                                 Traceback (most recent call last)",
      "\u001b[1;32m<ipython-input-4-00cf07b74dcd>\u001b[0m in \u001b[0;36m<module>\u001b[1;34m\u001b[0m\n\u001b[1;32m----> 1\u001b[1;33m \u001b[0mdf\u001b[0m\u001b[1;33m\u001b[0m\u001b[1;33m\u001b[0m\u001b[0m\n\u001b[0m",
      "\u001b[1;31mNameError\u001b[0m: name 'df' is not defined"
     ]
    }
   ],
   "source": [
    "df"
   ]
  },
  {
   "cell_type": "markdown",
   "metadata": {},
   "source": [
    "This next command prints columns names as Unicode strings. The result is another pandas data structure: Index"
   ]
  },
  {
   "cell_type": "code",
   "execution_count": 9,
   "metadata": {
    "collapsed": false
   },
   "outputs": [
    {
     "data": {
      "text/plain": [
       "Index([         u'caseid',        u'pregordr',       u'howpreg_n',\n",
       "             u'howpreg_p',        u'moscurrp',        u'nowprgdk',\n",
       "              u'pregend1',        u'pregend2',        u'nbrnaliv',\n",
       "              u'multbrth',\n",
       "       ...\n",
       "            u'laborfor_i',      u'religion_i',         u'metro_i',\n",
       "               u'basewgt', u'adj_mod_basewgt',        u'finalwgt',\n",
       "                u'secu_p',            u'sest',         u'cmintvw',\n",
       "           u'totalwgt_lb'],\n",
       "      dtype='object', length=244)"
      ]
     },
     "execution_count": 9,
     "metadata": {},
     "output_type": "execute_result"
    }
   ],
   "source": [
    "df.columns"
   ]
  },
  {
   "cell_type": "markdown",
   "metadata": {},
   "source": [
    "We can access a certain column by using its index:"
   ]
  },
  {
   "cell_type": "code",
   "execution_count": 10,
   "metadata": {
    "collapsed": false
   },
   "outputs": [
    {
     "data": {
      "text/plain": [
       "u'pregordr'"
      ]
     },
     "execution_count": 10,
     "metadata": {},
     "output_type": "execute_result"
    }
   ],
   "source": [
    "df.columns[1]"
   ]
  },
  {
   "cell_type": "markdown",
   "metadata": {},
   "source": [
    "We can also access it by using its name this way:"
   ]
  },
  {
   "cell_type": "code",
   "execution_count": 11,
   "metadata": {
    "collapsed": false
   },
   "outputs": [
    {
     "data": {
      "text/plain": [
       "pandas.core.series.Series"
      ]
     },
     "execution_count": 11,
     "metadata": {},
     "output_type": "execute_result"
    }
   ],
   "source": [
    "pregordr = df['pregordr']\n",
    "type(pregordr)"
   ]
  },
  {
   "cell_type": "markdown",
   "metadata": {},
   "source": [
    "The result of accessing the column is a Series - another pandas data structure. A Series is like a Python list with some additional features. When you print a Series, you get the indices and the corresponding values. We will only print the first values by using .head():"
   ]
  },
  {
   "cell_type": "code",
   "execution_count": 12,
   "metadata": {
    "collapsed": false
   },
   "outputs": [
    {
     "data": {
      "text/plain": [
       "0    1\n",
       "1    2\n",
       "2    1\n",
       "3    2\n",
       "4    3\n",
       "Name: pregordr, dtype: int64"
      ]
     },
     "execution_count": 12,
     "metadata": {},
     "output_type": "execute_result"
    }
   ],
   "source": [
    "pregordr.head()"
   ]
  },
  {
   "cell_type": "markdown",
   "metadata": {},
   "source": [
    "In the example above the indices are ints, but they can be any sortable type. The elements can be of any type.\n",
    "\n",
    "You can access the elements of a Series using integer indices and slices:"
   ]
  },
  {
   "cell_type": "code",
   "execution_count": 13,
   "metadata": {
    "collapsed": false
   },
   "outputs": [
    {
     "data": {
      "text/plain": [
       "3"
      ]
     },
     "execution_count": 13,
     "metadata": {},
     "output_type": "execute_result"
    }
   ],
   "source": [
    "pregordr[4]"
   ]
  },
  {
   "cell_type": "code",
   "execution_count": 14,
   "metadata": {
    "collapsed": false
   },
   "outputs": [
    {
     "data": {
      "text/plain": [
       "7     3\n",
       "8     1\n",
       "9     2\n",
       "10    1\n",
       "11    1\n",
       "12    2\n",
       "13    3\n",
       "14    1\n",
       "15    2\n",
       "Name: pregordr, dtype: int64"
      ]
     },
     "execution_count": 14,
     "metadata": {},
     "output_type": "execute_result"
    }
   ],
   "source": [
    "pregordr[7:16]"
   ]
  },
  {
   "cell_type": "markdown",
   "metadata": {},
   "source": [
    "You can also access the columns of a DataFrame using dot notation, but the column name has to be a valid Python identifier."
   ]
  },
  {
   "cell_type": "code",
   "execution_count": 15,
   "metadata": {
    "collapsed": true
   },
   "outputs": [],
   "source": [
    "pregordr = df.pregordr"
   ]
  },
  {
   "cell_type": "markdown",
   "metadata": {},
   "source": [
    "<a id='subchapter1.5'></a>\n",
    "## 1.5 Variables"
   ]
  },
  {
   "cell_type": "markdown",
   "metadata": {},
   "source": [
    "There are 244 variables in the NSFG dataset. This book intends to use:\n",
    "- <b>caseid</b>: Int; ID of the respondent.\n",
    "- <b>preglngth</b>: int; Duration of the pregnancy in weeks.\n",
    "- <b>outcome</b>: int; Outcome of the pregnancy {0, 1 = live birth}.\n",
    "- <b>pregordr</b>: int; Pregnancy chronologic number.\n",
    "- <b>birthord</b>: int; Chronological number for live birth.\n",
    "- <b>birthwgt_lb</b>, <b>birthwgt_oz</b>: int; Pounds and ounces of the parts of the birth weight of the baby.\n",
    "- <b>agepreg</b>: int; Mother's age at the end of the pregnancy.\n",
    "- <b>finalwgt</b>: float; Statistical weight associated with the respondent (% of US population).\n",
    "\n",
    "Reading the codebook will reveal that many of the variables are <b>records</b>, which means they are not part of the <b>raw data</b> but a result of a calculation using the raw data. It is a good idea to use records when they are available, unless there is a compelling reason to process the raw data yourself. "
   ]
  },
  {
   "cell_type": "markdown",
   "metadata": {},
   "source": [
    "<a id='subchapter1.6'></a>\n",
    "## 1.6 Transformation"
   ]
  },
  {
   "cell_type": "markdown",
   "metadata": {},
   "source": [
    "When you import data, you often have to check for errors, deal with special values, convert data into different formats, and perform calculations. These operations are called <b>data cleaning</b>. \n",
    "\n",
    "Things to remember: \n",
    "- <b>Special numbers encoded as values are dangerous</b> because if they are not handled properly, they can generate bogus results (like a 99 pound baby).\n",
    "- <b>Dealing with missing data will be a recurring issue</b>.\n",
    "- <b>Creating a new column in the DataFrame requires dictionary syntax</b> and *not* attribute assignment (like df.totalwgt_lb)"
   ]
  },
  {
   "cell_type": "markdown",
   "metadata": {},
   "source": [
    "<b>CleanFemPreg</b> is a function that cleans the variable we're going to use:"
   ]
  },
  {
   "cell_type": "code",
   "execution_count": 16,
   "metadata": {
    "collapsed": true
   },
   "outputs": [],
   "source": [
    "def CleanFemPreg(df):\n",
    "    \"\"\"Recodes variables from the pregnancy frame.\n",
    "    df: DataFrame\n",
    "    \"\"\"\n",
    "    # mother's age is encoded in centiyears; convert to years\n",
    "    df.agepreg /= 100.0\n",
    "\n",
    "    # birthwgt_lb contains at least one bogus value (51 lbs)\n",
    "    # replace with NaN\n",
    "    # The expression in brackets yields a Series of type bool\n",
    "    # that is used as an index to select only elements that satisfy condition\n",
    "    df.birthwgt_lb1[df.birthwgt_lb1 > 20] = np.nan\n",
    "    \n",
    "    # replace 'not ascertained', 'refused', 'don't know' with NaN\n",
    "    na_vals = [97, 98, 99]\n",
    "    df.birthwgt_lb1.replace(na_vals, np.nan, inplace=True)\n",
    "    df.birthwgt_oz1.replace(na_vals, np.nan, inplace=True)\n",
    "\n",
    "    # birthweight is stored in two columns, lbs and oz.\n",
    "    # convert to a single column in lb\n",
    "    # NOTE: creating a new column requires dictionary syntax,\n",
    "    # not attribute assignment (like df.totalwgt_lb)\n",
    "    df['totalwgt_lb'] = df.birthwgt_lb1 + df.birthwgt_oz1 / 16.0    \n",
    "\n",
    "    # due to a bug in ReadStataDct, the last variable gets clipped;\n",
    "    # so for now set it to NaN\n",
    "    df.phase = np.nan\n"
   ]
  },
  {
   "cell_type": "markdown",
   "metadata": {},
   "source": [
    "<a id='subchapter1.7'></a>\n",
    "## 1.7 Validation"
   ]
  },
  {
   "cell_type": "markdown",
   "metadata": {},
   "source": [
    "When data is exported from one software environment and imported into another, errors might be introduced. Taking the time to validate the data when you're getting familiar with the new dataset may save you time and help avoid errors. \n",
    "\n",
    "One way to validate data is to compute basic sttatistics and compare them with published results.\n",
    "\n",
    "Here is a table for <i></i> which computes the outcome of each pregnancy:\n",
    "\n",
    "<img src=\"figs/chap01outcome.png\" align=\"left\">\n"
   ]
  },
  {
   "cell_type": "code",
   "execution_count": 17,
   "metadata": {
    "collapsed": false
   },
   "outputs": [
    {
     "data": {
      "text/plain": [
       "1    9148\n",
       "2    1862\n",
       "3     120\n",
       "4    1921\n",
       "5     190\n",
       "6     352\n",
       "Name: outcome, dtype: int64"
      ]
     },
     "execution_count": 17,
     "metadata": {},
     "output_type": "execute_result"
    }
   ],
   "source": [
    "# The Series class provides the method value_counts\n",
    "# that counts the number each value appears\n",
    "df.outcome.value_counts(sort=False)"
   ]
  },
  {
   "cell_type": "code",
   "execution_count": 18,
   "metadata": {
    "collapsed": false
   },
   "outputs": [
    {
     "data": {
      "text/plain": [
       "pandas.core.series.Series"
      ]
     },
     "execution_count": 18,
     "metadata": {},
     "output_type": "execute_result"
    }
   ],
   "source": [
    "type(df.outcome.value_counts(sort=False))"
   ]
  },
  {
   "cell_type": "markdown",
   "metadata": {},
   "source": [
    "<a id='subchapter1.8'></a>\n",
    "## 1.8 Interpretation"
   ]
  },
  {
   "cell_type": "markdown",
   "metadata": {},
   "source": [
    "To work with data effectively, you have to think on two levels at the same time: The level of statistics and the level of context. As an example, let's look at the sequence of outcomes for a few respondents.  Because of the way the data files are organized, we have to do some processing to collect the pregnancy data for each respondent.\n",
    "\n",
    "Here's a function that does that:"
   ]
  },
  {
   "cell_type": "code",
   "execution_count": 19,
   "metadata": {
    "collapsed": true
   },
   "outputs": [],
   "source": [
    "def MakePregMap(df):\n",
    "    \"\"\"Make a map from caseid to list of preg indices.\n",
    "\n",
    "    df: DataFrame\n",
    "\n",
    "    returns: dict that maps from caseid to list of indices into preg df\n",
    "    \"\"\"\n",
    "    d = defaultdict(list)\n",
    "    for index, caseid in df.caseid.iteritems():\n",
    "        d[caseid].append(index)\n",
    "    return d"
   ]
  },
  {
   "cell_type": "markdown",
   "metadata": {},
   "source": [
    "The module <i>defaultdict</i> returns a new dictionary-like object. defaultdict is a subclass of the built-in dict class. It overrides one method and adds one writable instance variable. The remaining functionality is the same as for the dict class and is not documented here.\n",
    "\n",
    "The returned <i>d</i> is a dictionary that maps from each case ID to a list of indices. Using d, we can look up a respondent and get the indices of this respondent's pregnancies."
   ]
  },
  {
   "cell_type": "code",
   "execution_count": 20,
   "metadata": {
    "collapsed": false
   },
   "outputs": [
    {
     "data": {
      "text/plain": [
       "array([4, 4, 4, 4, 4, 4, 1])"
      ]
     },
     "execution_count": 20,
     "metadata": {},
     "output_type": "execute_result"
    }
   ],
   "source": [
    "d = defaultdict(list)\n",
    "for index, caseid in df.caseid.iteritems():\n",
    "    d[caseid].append(index)\n",
    "\n",
    "# index of respondent\n",
    "caseid = 10229\n",
    "\n",
    "# list of indices for pregnancies assosiated with respondent\n",
    "indices = d[caseid]\n",
    "\n",
    "df.outcome[indices].values"
   ]
  },
  {
   "cell_type": "markdown",
   "metadata": {},
   "source": [
    "The last part of <b>nsfg.py</b> is this, and it's intended to check the script runs correctly and you have all of the packages installed correctly on your system.  "
   ]
  },
  {
   "cell_type": "code",
   "execution_count": 21,
   "metadata": {
    "collapsed": false
   },
   "outputs": [],
   "source": [
    "def main(script):\n",
    "    \"\"\"Tests the functions in this module.\n",
    "\n",
    "    script: string script name\n",
    "    \"\"\"\n",
    "    df = ReadFemPreg()\n",
    "    print(df.shape)\n",
    "\n",
    "    assert len(df) == 13593\n",
    "\n",
    "    assert df.caseid[13592] == 12571\n",
    "    assert df.pregordr.value_counts()[1] == 5033\n",
    "    assert df.nbrnaliv.value_counts()[1] == 8981\n",
    "    assert df.babysex.value_counts()[1] == 4641\n",
    "    assert df.birthwgt_lb.value_counts()[7] == 3049\n",
    "    assert df.birthwgt_oz.value_counts()[0] == 1037\n",
    "    assert df.prglngth.value_counts()[39] == 4744\n",
    "    assert df.outcome.value_counts()[1] == 9148\n",
    "    assert df.birthord.value_counts()[1] == 4413\n",
    "    assert df.agepreg.value_counts()[22.75] == 100\n",
    "    assert df.totalwgt_lb.value_counts()[7.5] == 302\n",
    "\n",
    "    weights = df.finalwgt.value_counts()\n",
    "    key = max(weights.keys())\n",
    "    assert df.finalwgt.value_counts()[key] == 6\n",
    "\n",
    "    print('%s: All tests passed.' % script)"
   ]
  },
  {
   "cell_type": "markdown",
   "metadata": {},
   "source": [
    "<a id='subchapter1.9'></a>\n",
    "## 1.9 Exercises"
   ]
  },
  {
   "cell_type": "markdown",
   "metadata": {},
   "source": [
    "<b>Exercise 1.1</b>\n",
    "\n",
    "Open the exercises in the links below. Some cells are already filled in, and you should execute them. Other cells give you instructions for exercises you should try.\n",
    "\n",
    "[Exercise 1](chap01ex01.ipynb)\n",
    "\n",
    "[Exercise 1 solution](chap01ex01soln.ipynb)\n",
    "\n",
    "<b>Exercise 1.2</b>\n",
    "\n",
    "[Exercise 2](chap01ex02.ipynb)\n",
    "\n",
    "[Exercise 2 solution](chap01ex02soln.ipynb)\n",
    "\n",
    "<b>Exercise 1.3</b>\n",
    "\n",
    "The best way to learn about statistics is to work on a project you are interested in.  Is there a question like, \"Do first babies arrive late\", that you want to investigate?\n",
    "\n",
    "Think about questions you find personally interesting, or items of conventional wisdom, or controversial topics, or questions that have political consequences, and see if you can formulate a question that lends itself to statistical inquiry.\n",
    "\n",
    "Look for data to help you address the question.  Governments are good sources because data from public research is often freely available.  Good places to start include http://www.data.gov/, and http://www.science.gov/, and in the United Kingdom, http://data.gov.uk/.\n",
    "\n",
    "Two of my favorite data sets are the General Social Survey at http://www3.norc.org/gss+website/, and the European Social Survey at http://www.europeansocialsurvey.org/.\n",
    "\n",
    "If it seems like someone has already answered your question, look closely to see whether the answer is justified.  There might be flaws in the data or the analysis that make the conclusion unreliable.  In that case you could perform a different analysis of the same data, or look for a better source of data.\n",
    "\n",
    "If you find a published paper that addresses your question, you should be able to get the raw data.  Many authors make their data available on the web, but for sensitive data you might have to write to the authors, provide information about how you plan to use the data, or agree to certain terms of use.  \n",
    "\n",
    "<b>Be persistent!</b>"
   ]
  },
  {
   "cell_type": "markdown",
   "metadata": {},
   "source": [
    "<a id='subchapter1.10'></a>\n",
    "## 1.10 Glossary"
   ]
  },
  {
   "cell_type": "markdown",
   "metadata": {},
   "source": [
    "<b>Anecdotal evidence</b>: Evidence, often personal, that is collected casually rather than by a well-designed study.\n",
    "\n",
    "<b>Population</b>: A group we are interested in studying. \"Population\" often refers to a group of people, but the term is used for other subjects, too.\n",
    "\n",
    "<b>Cross-sectional study</b>: A study that collects data about a population at a particular point in time.\n",
    "\n",
    "<b>Cycle</b>: In a repeated cross-sectional study, each repetition of the study is called a cycle.\n",
    "\n",
    "<b>Longitudinal study</b>: A study that follows a population over time, collecting data from the same group repeatedly.\n",
    "\n",
    "<b>Record</b>: In a dataset, a collection of information about a single person or other subject.\n",
    "\n",
    "<b>Respondent</b>: A person who responds to a survey.\n",
    "\n",
    "<b>Sample</b>: The subset of a population used to collect data.\n",
    "\n",
    "<b>Representative</b>: A sample is representative if every member of the population has the same chance of being in the sample.\n",
    "\n",
    "<b>Oversampling</b>: The technique of increasing the representation of a sub-population in order to avoid errors due to small sample sizes.\n",
    "\n",
    "<b>Raw data</b>: Values collected and recorded with little or no checking, calculation or interpretation.\n",
    "\n",
    "<b>Recode</b>: A value that is generated by calculation and other logic applied to raw data.\n",
    "\n",
    "<b>Data cleaning</b>: Processes that include validating data, identifying errors, translating between data types and representations, etc."
   ]
  },
  {
   "cell_type": "markdown",
   "metadata": {},
   "source": [
    "Next up: [Chapter 2: Distributions](chap02.ipynb)"
   ]
  }
 ],
 "metadata": {
  "kernelspec": {
   "display_name": "Python 3",
   "language": "python",
   "name": "python3"
  },
  "language_info": {
   "codemirror_mode": {
    "name": "ipython",
    "version": 3
   },
   "file_extension": ".py",
   "mimetype": "text/x-python",
   "name": "python",
   "nbconvert_exporter": "python",
   "pygments_lexer": "ipython3",
   "version": "3.7.3"
  }
 },
 "nbformat": 4,
 "nbformat_minor": 2
}
