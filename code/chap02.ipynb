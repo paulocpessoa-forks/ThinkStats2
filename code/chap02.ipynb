{
 "cells": [
  {
   "cell_type": "markdown",
   "metadata": {},
   "source": [
    "- [Chapter 2: Distributions](#chapter2)\n",
    "    - [2.1 Histograms](#subchapter2.1)\n",
    "    - [2.2 Representing histograms](#subchapter2.2)\n",
    "    - [2.3 Plotting histograms](#subchapter2.3)\n",
    "    - [2.4 NSFG variables](#subchapter2.4)\n",
    "    - [2.5 Outliers](#subchapter2.5)\n",
    "    - [2.6 First babies](#subchapter2.6)\n",
    "    - [2.7 Summarizing distributions](#subchapter2.7)\n",
    "    - [2.8 Variance](#subchapter2.8)\n",
    "    - [2.9 Effect size](#subchapter2.9)\n",
    "    - [2.10 Reporting results](#subchapter2.10)\n",
    "    - [2.11 Exercises](#subchapter2.11)\n",
    "    - [2.12 Glossary](#subchapter2.12)"
   ]
  },
  {
   "cell_type": "markdown",
   "metadata": {},
   "source": [
    "<a id='chapter2'></a>\n",
    "# Chapter 2: Distributions"
   ]
  },
  {
   "cell_type": "markdown",
   "metadata": {},
   "source": [
    "<a id='subchapter2.1'></a>\n",
    "## 2.1 Histograms"
   ]
  },
  {
   "cell_type": "markdown",
   "metadata": {},
   "source": [
    "A good way to describe a variable is to get its <b>distribution</b>. The most common representation of this is a <b>Histogram</b>, which is a graph that shows the frequency of each value.\n",
    "\n",
    "An efficient way to compute frequencies in python is by using a dictionary. The result is a dictionary that maps from values to frequencies. "
   ]
  },
  {
   "cell_type": "code",
   "execution_count": 39,
   "metadata": {
    "collapsed": false,
    "scrolled": true
   },
   "outputs": [
    {
     "data": {
      "text/plain": [
       "{1: 1, 2: 2, 3: 1, 6: 1, 8: 1}"
      ]
     },
     "execution_count": 39,
     "metadata": {},
     "output_type": "execute_result"
    }
   ],
   "source": [
    "t = [1, 2, 2, 3, 8, 6]\n",
    "hist = {}\n",
    "for x in t:\n",
    "    hist[x] = hist.get(x, 0) + 1\n",
    "hist"
   ]
  },
  {
   "cell_type": "markdown",
   "metadata": {},
   "source": [
    "Alternatively, you can use the Counter class defined in the <b>collections</b> module. The result is a Counter object, which is a subclass of dictionary."
   ]
  },
  {
   "cell_type": "code",
   "execution_count": 40,
   "metadata": {
    "collapsed": false,
    "scrolled": true
   },
   "outputs": [
    {
     "data": {
      "text/plain": [
       "Counter({1: 1, 2: 2, 3: 1, 6: 1, 8: 1})"
      ]
     },
     "execution_count": 40,
     "metadata": {},
     "output_type": "execute_result"
    }
   ],
   "source": [
    "from collections import Counter\n",
    "\n",
    "counter = Counter(t)\n",
    "counter"
   ]
  },
  {
   "cell_type": "markdown",
   "metadata": {},
   "source": [
    "A third option is to use pandas method *value_counts*. \n",
    "\n",
    "In this book we'll use a class named <b>Hist</b> that represents histograms and provides the methods that operate them. You can view the class structure by loading the file *thinkstats2.py*"
   ]
  },
  {
   "cell_type": "code",
   "execution_count": 3,
   "metadata": {
    "collapsed": false
   },
   "outputs": [],
   "source": [
    "# Uncomment this next line of code to see the class Hist\n",
    "# %load thinkstats2.py"
   ]
  },
  {
   "cell_type": "markdown",
   "metadata": {
    "collapsed": true
   },
   "source": [
    "<a id='subchapter2.2'></a>\n",
    "## 2.2 Representing histograms"
   ]
  },
  {
   "cell_type": "markdown",
   "metadata": {
    "collapsed": true
   },
   "source": [
    "The Hist constructor can take a sequence, dictionary, pandas Series, or another histogram. You can instantiate a Hist object like this: "
   ]
  },
  {
   "cell_type": "code",
   "execution_count": 4,
   "metadata": {
    "collapsed": false
   },
   "outputs": [
    {
     "name": "stderr",
     "output_type": "stream",
     "text": [
      "//anaconda/lib/python2.7/site-packages/matplotlib/font_manager.py:273: UserWarning: Matplotlib is building the font cache using fc-list. This may take a moment.\n",
      "  warnings.warn('Matplotlib is building the font cache using fc-list. This may take a moment.')\n"
     ]
    },
    {
     "data": {
      "text/plain": [
       "Hist({8: 1, 1: 1, 2: 2, 3: 1, 6: 1})"
      ]
     },
     "execution_count": 4,
     "metadata": {},
     "output_type": "execute_result"
    }
   ],
   "source": [
    "import thinkstats2\n",
    "hist = thinkstats2.Hist([1, 2, 2, 3, 8, 6])\n",
    "hist"
   ]
  },
  {
   "cell_type": "markdown",
   "metadata": {},
   "source": [
    "You can get the frequency of a certain element by using Freq:"
   ]
  },
  {
   "cell_type": "code",
   "execution_count": 5,
   "metadata": {
    "collapsed": false
   },
   "outputs": [
    {
     "data": {
      "text/plain": [
       "2"
      ]
     },
     "execution_count": 5,
     "metadata": {},
     "output_type": "execute_result"
    }
   ],
   "source": [
    "hist.Freq(2)\n",
    "# or using square brackets:\n",
    "hist[2]"
   ]
  },
  {
   "cell_type": "markdown",
   "metadata": {
    "collapsed": true
   },
   "source": [
    "The frequency of a value that does not appear will be 0:"
   ]
  },
  {
   "cell_type": "code",
   "execution_count": 6,
   "metadata": {
    "collapsed": false
   },
   "outputs": [
    {
     "data": {
      "text/plain": [
       "0"
      ]
     },
     "execution_count": 6,
     "metadata": {},
     "output_type": "execute_result"
    }
   ],
   "source": [
    "hist.Freq(4)"
   ]
  },
  {
   "cell_type": "code",
   "execution_count": 7,
   "metadata": {
    "collapsed": false
   },
   "outputs": [
    {
     "data": {
      "text/plain": [
       "[8, 1, 2, 3, 6]"
      ]
     },
     "execution_count": 7,
     "metadata": {},
     "output_type": "execute_result"
    }
   ],
   "source": [
    "# Values returns an unsorted list of the values in the Hist\n",
    "hist.Values()"
   ]
  },
  {
   "cell_type": "code",
   "execution_count": 8,
   "metadata": {
    "collapsed": false
   },
   "outputs": [
    {
     "name": "stdout",
     "output_type": "stream",
     "text": [
      "1 1\n",
      "2 2\n",
      "3 1\n",
      "6 1\n",
      "8 1\n",
      "\n",
      "\n",
      "8 1\n",
      "1 1\n",
      "2 2\n",
      "3 1\n",
      "6 1\n"
     ]
    }
   ],
   "source": [
    "# To loop through the values in order - use the built in function sorted:\n",
    "for val in sorted(hist.Values()):\n",
    "    print val, hist[val]\n",
    "\n",
    "print '\\n'\n",
    "\n",
    "# or use Items to iterate through value-frequency pairs:\n",
    "for val, freq in hist.Items():\n",
    "    print val, freq"
   ]
  },
  {
   "cell_type": "markdown",
   "metadata": {},
   "source": [
    "<a id='subchapter2.3'></a>\n",
    "## 2.3 Plotting histograms"
   ]
  },
  {
   "cell_type": "markdown",
   "metadata": {},
   "source": [
    "The author of the book uses a module called *thinkplot.py* that provides functions for plotting Hists and other objects defined in *thinkstats2.py*. It is based on *pyplot*, which is part of the *matplotlib* package.\n",
    "\n",
    "You can read the documentation for thinkplot [here](http://greenteapress.com/thinkstats2/thinkplot.html)."
   ]
  },
  {
   "cell_type": "code",
   "execution_count": 9,
   "metadata": {
    "collapsed": true
   },
   "outputs": [],
   "source": [
    "# We want our plots to be shown inline the notebook\n",
    "%matplotlib inline\n",
    "\n",
    "# Uncomment this next line of code if you want to take a look at the thinkplot module\n",
    "# %load thinkplot.py"
   ]
  },
  {
   "cell_type": "markdown",
   "metadata": {},
   "source": [
    "Import the module and take a look at what it does:"
   ]
  },
  {
   "cell_type": "code",
   "execution_count": 10,
   "metadata": {
    "collapsed": false
   },
   "outputs": [
    {
     "name": "stderr",
     "output_type": "stream",
     "text": [
      "//anaconda/lib/python2.7/site-packages/matplotlib/axes/_axes.py:519: UserWarning: No labelled objects found. Use label='...' kwarg on individual plots.\n",
      "  warnings.warn(\"No labelled objects found. \"\n"
     ]
    },
    {
     "data": {
      "image/png": "[encoded data removed]",
      "text/plain": [
       "<matplotlib.figure.Figure at 0x10a1fac50>"
      ]
     },
     "metadata": {},
     "output_type": "display_data"
    },
    {
     "data": {
      "text/plain": [
       "<matplotlib.figure.Figure at 0x11adb4e10>"
      ]
     },
     "metadata": {},
     "output_type": "display_data"
    }
   ],
   "source": [
    "import thinkplot\n",
    "\n",
    "thinkplot.Hist(hist)\n",
    "thinkplot.Show(xlabel='value', ylabel='frequency')"
   ]
  },
  {
   "cell_type": "markdown",
   "metadata": {
    "collapsed": true
   },
   "source": [
    "<a id='subchapter2.4'></a>\n",
    "## 2.4 NSFG variables"
   ]
  },
  {
   "cell_type": "markdown",
   "metadata": {
    "collapsed": true
   },
   "source": [
    "When you get a new dataset, you should explore the variables you are planning to use one at a time. A good way to do this is by looking at histograms. \n",
    "\n",
    "Let's start by reading the data and selecting records for live births:"
   ]
  },
  {
   "cell_type": "code",
   "execution_count": 11,
   "metadata": {
    "collapsed": true
   },
   "outputs": [],
   "source": [
    "from __future__ import print_function\n",
    "\n",
    "import math\n",
    "import numpy as np\n",
    "\n",
    "import nsfg\n",
    "\n",
    "preg = nsfg.ReadFemPreg()\n",
    "live = preg[preg.outcome == 1]"
   ]
  },
  {
   "cell_type": "markdown",
   "metadata": {},
   "source": [
    "Taking a quick look at the variables in the DataFrame can't hurt:"
   ]
  },
  {
   "cell_type": "code",
   "execution_count": 12,
   "metadata": {
    "collapsed": false
   },
   "outputs": [
    {
     "data": {
      "text/plain": [
       "(13593, 244)"
      ]
     },
     "execution_count": 12,
     "metadata": {},
     "output_type": "execute_result"
    }
   ],
   "source": [
    "preg.shape"
   ]
  },
  {
   "cell_type": "code",
   "execution_count": 13,
   "metadata": {
    "collapsed": false
   },
   "outputs": [
    {
     "data": {
      "text/plain": [
       "(9148, 244)"
      ]
     },
     "execution_count": 13,
     "metadata": {},
     "output_type": "execute_result"
    }
   ],
   "source": [
    "live.shape"
   ]
  },
  {
   "cell_type": "markdown",
   "metadata": {
    "collapsed": true
   },
   "source": [
    "While preg has 13,593 rows, the DataFrame live has 9,148. The reason is that the expression in brackets is a boolean Series that selects rows from the DataFrame and returns a new DataFrame. \n",
    "\n",
    "Let's generate and plot a histogram of birthwgt_lb for live births. When the argument passed to Hist is a panda Series, any NaN value is dropped."
   ]
  },
  {
   "cell_type": "code",
   "execution_count": 14,
   "metadata": {
    "collapsed": false
   },
   "outputs": [
    {
     "data": {
      "image/png": "[encoded data removed]",
      "text/plain": [
       "<matplotlib.figure.Figure at 0x11ac19990>"
      ]
     },
     "metadata": {},
     "output_type": "display_data"
    },
    {
     "data": {
      "text/plain": [
       "<matplotlib.figure.Figure at 0x11db55b50>"
      ]
     },
     "metadata": {},
     "output_type": "display_data"
    }
   ],
   "source": [
    "# label is a string that appers in the legend\n",
    "hist_birthwgt_lb = thinkstats2.Hist(live.birthwgt_lb, label='birthwgt_lb')\n",
    "thinkplot.Hist(hist_birthwgt_lb)\n",
    "thinkplot.Show(xlabel='Weigh in pounds', ylabel='Frequency')"
   ]
  },
  {
   "cell_type": "markdown",
   "metadata": {
    "collapsed": true
   },
   "source": [
    "Let's examine this histogram:\n",
    "\n",
    "- The most common value, called the <b>mode</b>, is 7 pounds.\n",
    "- The distribution is approximately a <b>normal</b> or <b>Gaussian</b>.\n",
    "- Unlike the normal distribution, this histogram has a <b>tail</b> that extends farther to the left than to the right."
   ]
  },
  {
   "cell_type": "code",
   "execution_count": 15,
   "metadata": {
    "collapsed": false
   },
   "outputs": [
    {
     "data": {
      "image/png": "[encoded data removed]",
      "text/plain": [
       "<matplotlib.figure.Figure at 0x11ac09510>"
      ]
     },
     "metadata": {},
     "output_type": "display_data"
    },
    {
     "data": {
      "text/plain": [
       "<matplotlib.figure.Figure at 0x11db8c050>"
      ]
     },
     "metadata": {},
     "output_type": "display_data"
    }
   ],
   "source": [
    "hist_birthwgt_oz = thinkstats2.Hist(live.birthwgt_oz, label='birthwgt_oz')\n",
    "thinkplot.Hist(hist_birthwgt_oz)\n",
    "thinkplot.Show(xlabel='Weigh in ounces', ylabel='Frequency')"
   ]
  },
  {
   "cell_type": "markdown",
   "metadata": {},
   "source": [
    "When xamining the distribution of the ounces part of the birth weight, we expect it to be <b>uniform</b>, meaning all values should have the same frequency. But we see that 0 is the most common and 1 and 15 are less common (probably because respondents round off birth weights that are close to an integer value)."
   ]
  },
  {
   "cell_type": "code",
   "execution_count": 16,
   "metadata": {
    "collapsed": false
   },
   "outputs": [
    {
     "data": {
      "text/plain": [
       "0    33.16\n",
       "1    39.25\n",
       "2    14.33\n",
       "3    17.83\n",
       "4    18.33\n",
       "Name: agepreg, dtype: float64"
      ]
     },
     "execution_count": 16,
     "metadata": {},
     "output_type": "execute_result"
    }
   ],
   "source": [
    "# age at the end of the pregnancy is in decimal values\n",
    "live.agepreg.head()"
   ]
  },
  {
   "cell_type": "code",
   "execution_count": 17,
   "metadata": {
    "collapsed": false
   },
   "outputs": [
    {
     "data": {
      "image/png": "[encoded data removed]",
      "text/plain": [
       "<matplotlib.figure.Figure at 0x11da23150>"
      ]
     },
     "metadata": {},
     "output_type": "display_data"
    },
    {
     "data": {
      "text/plain": [
       "<matplotlib.figure.Figure at 0x124dd6390>"
      ]
     },
     "metadata": {},
     "output_type": "display_data"
    }
   ],
   "source": [
    "hist_agepreg = thinkstats2.Hist(np.floor(live.agepreg*100), label='agepreg')\n",
    "thinkplot.Hist(hist_agepreg)\n",
    "thinkplot.Show(xlabel='Mother\\'s age at end of pregnancy', ylabel='Frequency')"
   ]
  },
  {
   "cell_type": "markdown",
   "metadata": {
    "collapsed": true
   },
   "source": [
    "The distribution of mother's ages at birth is roughly bell shaped, with the tail extended to the right. "
   ]
  },
  {
   "cell_type": "code",
   "execution_count": 18,
   "metadata": {
    "collapsed": false
   },
   "outputs": [
    {
     "data": {
      "text/plain": [
       "0    39\n",
       "1    39\n",
       "2    39\n",
       "3    39\n",
       "4    39\n",
       "Name: prglngth, dtype: int64"
      ]
     },
     "execution_count": 18,
     "metadata": {},
     "output_type": "execute_result"
    }
   ],
   "source": [
    "live.prglngth.head()"
   ]
  },
  {
   "cell_type": "code",
   "execution_count": 19,
   "metadata": {
    "collapsed": false
   },
   "outputs": [
    {
     "data": {
      "image/png": "[encoded data removed]",
      "text/plain": [
       "<matplotlib.figure.Figure at 0x11dbedd90>"
      ]
     },
     "metadata": {},
     "output_type": "display_data"
    },
    {
     "data": {
      "text/plain": [
       "<matplotlib.figure.Figure at 0x11b01af50>"
      ]
     },
     "metadata": {},
     "output_type": "display_data"
    }
   ],
   "source": [
    "hist_prglngth = thinkstats2.Hist(live.prglngth, label='prglngth')\n",
    "thinkplot.Hist(hist_prglngth)\n",
    "thinkplot.Show(xlabel='Pregnancy length in weeks', ylabel='Frequency')"
   ]
  },
  {
   "cell_type": "markdown",
   "metadata": {
    "collapsed": true
   },
   "source": [
    "The left tail is longer than the right: early babies are common, but pregnancies seldoml pass 43 weeks. \n",
    "\n",
    "The most common pregnancy length is around 39 weeks. Or more precisely:"
   ]
  },
  {
   "cell_type": "code",
   "execution_count": 20,
   "metadata": {
    "collapsed": false
   },
   "outputs": [
    {
     "data": {
      "text/plain": [
       "38.56"
      ]
     },
     "execution_count": 20,
     "metadata": {},
     "output_type": "execute_result"
    }
   ],
   "source": [
    "round(live.prglngth.mean(), 2)"
   ]
  },
  {
   "cell_type": "markdown",
   "metadata": {
    "collapsed": true
   },
   "source": [
    "<a id='subchapter2.5'></a>\n",
    "## 2.5 Outliers"
   ]
  },
  {
   "cell_type": "markdown",
   "metadata": {},
   "source": [
    "Histograms help us identify the most common values and the shape of the distribution, but rare values are not always visible. Before going on, it's a good idea to check for <b>outliers</b>, which are extreme values that might be errors in measurement and recording or accurate reports of rare events. \n",
    "\n",
    "Hist provides methods *Largest* and *Smallest*, which take an integer n and return the n largest or smallest values from the histogram:"
   ]
  },
  {
   "cell_type": "code",
   "execution_count": 21,
   "metadata": {
    "collapsed": false
   },
   "outputs": [
    {
     "name": "stdout",
     "output_type": "stream",
     "text": [
      "0 1\n",
      "4 1\n",
      "9 1\n",
      "13 1\n",
      "17 2\n",
      "18 1\n",
      "19 1\n",
      "20 1\n",
      "21 2\n",
      "22 7\n"
     ]
    }
   ],
   "source": [
    "for weeks, freq in hist_prglngth.Smallest(10):\n",
    "    print(weeks, freq)"
   ]
  },
  {
   "cell_type": "markdown",
   "metadata": {},
   "source": [
    "Any values below 10 weeks in the pregnancy length variable are definitly errors. Above 30 is legitimate. Between 10 and 30 - hard to say."
   ]
  },
  {
   "cell_type": "code",
   "execution_count": 22,
   "metadata": {
    "collapsed": false
   },
   "outputs": [
    {
     "name": "stdout",
     "output_type": "stream",
     "text": [
      "50 2\n",
      "48 7\n",
      "47 1\n",
      "46 1\n",
      "45 10\n",
      "44 46\n",
      "43 148\n",
      "42 328\n",
      "41 587\n",
      "40 1116\n"
     ]
    }
   ],
   "source": [
    "for weeks, freq in hist_prglngth.Largest(10):\n",
    "    print(weeks, freq)"
   ]
  },
  {
   "cell_type": "markdown",
   "metadata": {},
   "source": [
    "Most doctors recommend induces if a pregnancy exceeds 42 weeks, so some of the values seem unlikely. \n",
    "\n",
    "In order to find the outliers, it is best to have at least sone \"domain knowlage\" (information about the data and what they mean). \n",
    "\n",
    "When attempting to answer the question \"do first babies arrive early/ late?\", we will examine pregnancies that lasted 27-46 weeks, and assume the rest are outliers. "
   ]
  },
  {
   "cell_type": "markdown",
   "metadata": {},
   "source": [
    "<a id='subchapter2.6'></a>\n",
    "## 2.6 First babies"
   ]
  },
  {
   "cell_type": "markdown",
   "metadata": {},
   "source": [
    "We first want to compare the distribution of pregnancy lengths for first babies and others. We devide the DataFrame of live births using birthord, and compute their histograms:"
   ]
  },
  {
   "cell_type": "code",
   "execution_count": 23,
   "metadata": {
    "collapsed": false
   },
   "outputs": [
    {
     "data": {
      "image/png": "[encoded data removed]",
      "text/plain": [
       "<matplotlib.figure.Figure at 0x125319810>"
      ]
     },
     "metadata": {},
     "output_type": "display_data"
    },
    {
     "data": {
      "text/plain": [
       "<matplotlib.figure.Figure at 0x11877cb10>"
      ]
     },
     "metadata": {},
     "output_type": "display_data"
    }
   ],
   "source": [
    "first_babies = live[live.birthord == 1]\n",
    "other_babies = live[live.birthord != 1]\n",
    "\n",
    "first_hist = thinkstats2.Hist(first_babies.prglngth)\n",
    "other_hist = thinkstats2.Hist(other_babies.prglngth)\n",
    "\n",
    "# We want to plot the histograms on the same axix:\n",
    "# Both bars will be of width 0.9, which will leave some space to tell the different sections appart\n",
    "width = 0.45\n",
    "# PrePlot takes the number of histograms we plan to plot and chooses appropriate colors\n",
    "thinkplot.PrePlot(2)\n",
    "\n",
    "# Default alignment is 'center', bun since we want to compare the two - we'll use both sides\n",
    "thinkplot.Hist(first_hist, align='right', width=width)\n",
    "thinkplot.Hist(other_hist, align='left', width=width)\n",
    "\n",
    "thinkplot.Show(xlabel='Weeks', ylabel='Frequency', xlim=[27,46])"
   ]
  },
  {
   "cell_type": "markdown",
   "metadata": {},
   "source": [
    "Notice that since there are fewer \"first babies\" than \"others\", some of the apparen differences in the histograms are due to sample size."
   ]
  },
  {
   "cell_type": "markdown",
   "metadata": {
    "collapsed": true
   },
   "source": [
    "<a id='subchapter2.7'></a>\n",
    "## 2.7 Summarizing distributions"
   ]
  },
  {
   "cell_type": "markdown",
   "metadata": {
    "collapsed": true
   },
   "source": [
    "If the details of the distribution are important, it might be necessary to present a histogram. But often we want to summarize the distribution with a few descriptive statistics.\n",
    "\n",
    "<b>Summary statistics</b> are statistics designed to answer these questions. \n",
    "\n",
    "- <b>central tendency</b>: Do the values tend to cluster around a particular point?\n",
    "- <b>modes</b>: modes: Is there more than one cluster?\n",
    "- <b>spread</b>: How much variablity is there in the values?\n",
    "- <b>tails</b>: How quickly do the probabilities drop off as we move away from the modes?\n",
    "- <b>outliers</b>: Are there extreme values far from the modes?\n",
    "\n",
    "The most common is the <b>mean</b>, which is meant to describe the central tendency of the distribution. \n",
    "\n",
    "If you have a sample of n values, $x_{i}$, the mean, $\\bar{x}$, is:\n",
    "\n",
    "$$\\bar{x}=\\frac{1}{n}\\sum_i(x_{i})$$\n",
    "\n",
    "When the variance of the values is large, the mean is meaningless. When the mean does not represent the typical value [usually since there is no typical], the variance can help us get a better view on the values. "
   ]
  },
  {
   "cell_type": "markdown",
   "metadata": {
    "collapsed": true
   },
   "source": [
    "<a id='subchapter2.8'></a>\n",
    "## 2.8 Variance"
   ]
  },
  {
   "cell_type": "markdown",
   "metadata": {
    "collapsed": true
   },
   "source": [
    "Variance is intended to describe the variability or spread of a distribution. \n",
    "\n",
    "The vaiance of a set of values is:\n",
    "\n",
    "$$S^2=\\frac{1}{n}\\sum_i(x_{i}-\\bar{x})^2$$\n",
    "\n",
    "The term $x_{i}-\\bar{x}$ is called \"deviation of the mean\", so variance is the mean squared deviation. The square root of the variance, $S$, is the standard deviation (in statistics used to estimate variance in a population using a sample - the formula for the variance is devided by $n-1$."
   ]
  },
  {
   "cell_type": "code",
   "execution_count": 24,
   "metadata": {
    "collapsed": false
   },
   "outputs": [
    {
     "name": "stdout",
     "output_type": "stream",
     "text": [
      "\n",
      "Mean:  38.5605596852 \n",
      "Variance:  7.30266206783 \n",
      "Std:  2.70234381007\n"
     ]
    }
   ],
   "source": [
    "mean = live.prglngth.mean()\n",
    "var = live.prglngth.var()\n",
    "std = live.prglngth.std()\n",
    "print('\\nMean: ', mean, '\\nVariance: ', var, '\\nStd: ' ,std)"
   ]
  },
  {
   "cell_type": "markdown",
   "metadata": {},
   "source": [
    "The meaning of these values is that we should expect deviations of 2-3 weeks to be common."
   ]
  },
  {
   "cell_type": "markdown",
   "metadata": {
    "collapsed": true
   },
   "source": [
    "<a id='subchapter2.9'></a>\n",
    "## 2.9 Effect size"
   ]
  },
  {
   "cell_type": "markdown",
   "metadata": {},
   "source": [
    "An <b>effect size</b> is a summary statistic intended to describe the size of an effect. For example, mean pregnancy length for first babies is 38.601; For other babies it's 38.523. The difference is 0.078 weeks, which is 13 hours. As a fraction of a typical pregnancy length, this difference is about 0.2%. \n",
    "\n",
    "In order to convey the size of the effect we can compare the difference between groups to the variability within groups. Cohen's $d$ is a statistic intended to do that. It is defined: \n",
    "\n",
    "$$d = \\frac{\\bar{x_1}-\\bar{x_2}}{S}$$\n",
    "\n",
    "Where $\\bar{x_1}$ and $\\bar{x_2}$ are the means of the groups and $S$ is the \"pooled standard deviation\". In order to do this in python: "
   ]
  },
  {
   "cell_type": "code",
   "execution_count": 35,
   "metadata": {
    "collapsed": true
   },
   "outputs": [],
   "source": [
    "def CohenEffectSize(group1, group2):\n",
    "    diff = group1.mean() - group2.mean()\n",
    "    \n",
    "    var1 = group1.var()\n",
    "    var2 = group2.var()\n",
    "    n1, n2 = len(group1), len(group2)\n",
    "    \n",
    "    pooled_var = (n1 * var1 + n2 * var2) / (n1 + n2)\n",
    "    d = diff / math.sqrt(pooled_var)\n",
    "    return d"
   ]
  },
  {
   "cell_type": "code",
   "execution_count": 26,
   "metadata": {
    "collapsed": false
   },
   "outputs": [
    {
     "data": {
      "text/plain": [
       "0.028879044654449883"
      ]
     },
     "execution_count": 26,
     "metadata": {},
     "output_type": "execute_result"
    }
   ],
   "source": [
    "group1 = live[live.birthord == 1].prglngth\n",
    "group2 = live[live.birthord != 1].prglngth\n",
    "CohenEffectSize(group1, group2)"
   ]
  },
  {
   "cell_type": "markdown",
   "metadata": {},
   "source": [
    "In this example the differences in means is 0.029 standard deviations, which is small. "
   ]
  },
  {
   "cell_type": "markdown",
   "metadata": {
    "collapsed": true
   },
   "source": [
    "<a id='subchapter2.10'></a>\n",
    "## 2.10 Reporting results"
   ]
  },
  {
   "cell_type": "markdown",
   "metadata": {
    "collapsed": true
   },
   "source": [
    "The answer to the question \"How to report these results?\" depends on who's asking the question. A scientist, a doctor or a pregnant woman may be interested in different significance and details. The report also depends on the goals of the researcher and should be guided by professional ethics. The reports and visualizations should tell a story clearly, while being honest, and should acknowledge uncertainty and limitations. \n",
    "\n",
    "Take a few moments, and answer this next question before moving on the the exercises below: \n",
    "\n",
    "Suppose you were asked to summarize what you learned about whether first babies arrive late based on the results in this chapter. Write a paragraph that uses the results shown here to answer the question clearly, precisely, and honestly.\n",
    "\n",
    "Post your answer here: "
   ]
  },
  {
   "cell_type": "markdown",
   "metadata": {},
   "source": [
    "<i>When trying to answer the question \"Do first babies arrive late?\" we used data taken from the National Survey of Family Growth (NSFG), a survey conducted by the U.S. Centers for Disease Control and Prevention (CDC). Their 2002 dataset includes 7643 women, who reported the gestational age for their 9148 live births. \n",
    "\n",
    "When looking at the distribution of pregnancy length, we see that the distributions are similar for first babies and others.  The mode is 39 weeks; the distribution is skewed to the left, with some births as early as 24 weeks, but almost none later than 44 weeks. On average, first babies are 0.078 weeks later than others.  This difference, 13 hours, is not statistically significant.</i>"
   ]
  },
  {
   "cell_type": "markdown",
   "metadata": {
    "collapsed": true
   },
   "source": [
    "<a id='subchapter2.11'></a>\n",
    "## 2.11 Exercises"
   ]
  },
  {
   "cell_type": "markdown",
   "metadata": {},
   "source": [
    "Open the exercises in the links below. Some cells are already filled in, and you should execute them. Other cells give you instructions for exercises you should try."
   ]
  },
  {
   "cell_type": "markdown",
   "metadata": {
    "collapsed": true
   },
   "source": [
    "<b>Exercise 2.1</b>"
   ]
  },
  {
   "cell_type": "markdown",
   "metadata": {},
   "source": [
    "[Exercise 1](chap02ex01.ipynb)\n",
    "\n",
    "[Exercise 1 solution](chap02ex01soln.ipynb)"
   ]
  },
  {
   "cell_type": "markdown",
   "metadata": {
    "collapsed": true
   },
   "source": [
    "<b>Exercise 2.3</b>"
   ]
  },
  {
   "cell_type": "markdown",
   "metadata": {},
   "source": [
    "[Exercise 2](chap02ex02.ipynb)\n",
    "\n",
    "[Exercise 2 solution](chap02ex02soln.ipynb)\n"
   ]
  },
  {
   "cell_type": "markdown",
   "metadata": {},
   "source": [
    "<a id='subchapter2.12'></a>\n",
    "## 2.12 Glossary"
   ]
  },
  {
   "cell_type": "markdown",
   "metadata": {},
   "source": [
    "<b>Distribution</b>: The values that appear in a sample and the frequency of each.\n",
    "\n",
    "<b>Histogram</b>: A mapping from values to frequencies, or a graph that shows this mapping.\n",
    "\n",
    "<b>Frequency</b>: The number of times a value appears in a sample.\n",
    "\n",
    "<b>Mode</b>: The most frequent value in a sample, or one of the most fre- quent values\n",
    "\n",
    "<b>Normaldistribution</b>:Anidealizationofabell-shapeddistribution;also known as a Gaussian distribution.\n",
    "\n",
    "<b>Uniform distribution</b>: A distribution in which all values have the same frequency.\n",
    "\n",
    "<b>Tail</b>: The part of a distribution at the high and low extremes.\n",
    "\n",
    "<b>Central tendency</b>: A characteristic of a sample or population; intu- itively, it is an average or typical value.\n",
    "\n",
    "<b>Outlier</b>: A value far from the central tendency.\n",
    "\n",
    "<b>Spread</b>: A measure of how spread out the values in a distribution are.\n",
    "\n",
    "<b>Summary statistic</b>: A statistic that quantifies some aspect of a distribu- tion, like central tendency or spread.\n",
    "\n",
    "<b>Variance</b>: A summary statistic often used to quantify spread.\n",
    "\n",
    "<b>Standard deviation</b>: The square root of variance, also used as a mea- sure of spread.\n",
    "\n",
    "<b>Effect size</b>: A summary statistic intended to quantify the size of an effect like a difference between groups.\n",
    "\n",
    "<b>Clinically significant</b>: A result, like a difference between groups, that is relevant in practice."
   ]
  },
  {
   "cell_type": "markdown",
   "metadata": {
    "collapsed": true
   },
   "source": [
    "Next up: [Chapter 3: Probability mass functions](chap03.ipynb)"
   ]
  }
 ],
 "metadata": {
  "kernelspec": {
   "display_name": "Python 2",
   "language": "python",
   "name": "python2"
  },
  "language_info": {
   "codemirror_mode": {
    "name": "ipython",
    "version": 2
   },
   "file_extension": ".py",
   "mimetype": "text/x-python",
   "name": "python",
   "nbconvert_exporter": "python",
   "pygments_lexer": "ipython2",
   "version": "2.7.11"
  }
 },
 "nbformat": 4,
 "nbformat_minor": 0
}
