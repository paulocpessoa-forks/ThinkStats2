{
 "cells": [
  {
   "cell_type": "markdown",
   "metadata": {},
   "source": [
    "- [Chapter 4: Cumulative distribution functions](#chapter4)\n",
    "    - [4.1 The limits of PMFs](#subchapter4.1)\n",
    "    - [4.2 Percentiles](#subchapter4.2)\n",
    "    - [4.3 CDFs](#subchapter4.3)\n",
    "    - [4.4 Representing CDFs](#subchapter4.4)\n",
    "    - [4.5 Comparing CDFs](#subchapter4.5)\n",
    "    - [4.6 Percentile-based statistics](#subchapter4.6)\n",
    "    - [4.7 Random numbers](#subchapter4.7)    \n",
    "    - [4.8 Comparing percentile ranks](#subchapter4.8)\n",
    "    - [4.9 Exercises](#subchapter4.9)\n",
    "    - [4.10 Glossary](#subchapter4.10)"
   ]
  },
  {
   "cell_type": "markdown",
   "metadata": {},
   "source": [
    "<a id='chapter4'></a>\n",
    "# Chapter 4: Cumulative distribution functions"
   ]
  },
  {
   "cell_type": "markdown",
   "metadata": {},
   "source": [
    "<a id='subchapter4.1'></a>\n",
    "## 4.1 The limits of PMFs"
   ]
  },
  {
   "cell_type": "markdown",
   "metadata": {},
   "source": [
    "PMFs work well if the number of values is small. But as the number increases, the probability associated with each value gets smaller and the effect of random noise increases. For example, this next figure shows the PMF of weight at birth of first babies and others.\n",
    "\n",
    "![title](figs/chap04limitations.png)\n",
    "\n",
    "Overall, these distributions resemble the bell shape of a normal distribution, with many values near the mean and a few values much higher and lower. But parts of this figure are hard to interpret. There are many spikes and valleys, and some apparent differences between the distributions. It is hard to tell which of these features are meaningful.\n",
    "\n",
    "These problems can be solved by binning the data: dividing the range of values into non-overlapping intervals and counting the number of values in each bin. Note: it is tricky to get the size of bins right. \n",
    "\n",
    "An alternative that avoids these problems is the cumulative distribution function (CDF). We'll get to that after we talk about percemtiles."
   ]
  },
  {
   "cell_type": "markdown",
   "metadata": {},
   "source": [
    "<a id='subchapter4.2'></a>\n",
    "## 4.2 Percentiles "
   ]
  },
  {
   "cell_type": "markdown",
   "metadata": {},
   "source": [
    "Getting a value and list of values, and calculating the percentile rank: "
   ]
  },
  {
   "cell_type": "code",
   "execution_count": 1,
   "metadata": {
    "collapsed": true
   },
   "outputs": [],
   "source": [
    "'''\n",
    "    your_score = your grade \n",
    "    scores = sequence that includes all scores\n",
    "'''\n",
    "\n",
    "def PercentileRank(scores, your_score):\n",
    "    count = 0\n",
    "    for score in scores:\n",
    "        if score <= your_score:\n",
    "            count += 1\n",
    "    percentile_rank = 100.0 * count / len(scores)\n",
    "    \n",
    "    return percentile_rank"
   ]
  },
  {
   "cell_type": "code",
   "execution_count": 2,
   "metadata": {
    "collapsed": false,
    "scrolled": true
   },
   "outputs": [
    {
     "data": {
      "text/plain": [
       "80.0"
      ]
     },
     "execution_count": 2,
     "metadata": {},
     "output_type": "execute_result"
    }
   ],
   "source": [
    "# For example: you score 88 in a test where others scored:\n",
    "scores = [55,66,77,88,99]\n",
    "your_score = 88\n",
    "PercentileRank(scores, your_score)"
   ]
  },
  {
   "cell_type": "markdown",
   "metadata": {},
   "source": [
    "Getting a percentile rank and calculating the value is trickier:"
   ]
  },
  {
   "cell_type": "code",
   "execution_count": 3,
   "metadata": {
    "collapsed": false
   },
   "outputs": [],
   "source": [
    "def Percentile(scores, percentile_rank):\n",
    "    scores.sort()\n",
    "    for score in scores:\n",
    "        if PercentileRank(scores, score) >= percentile_rank:\n",
    "            return score"
   ]
  },
  {
   "cell_type": "code",
   "execution_count": 4,
   "metadata": {
    "collapsed": false
   },
   "outputs": [
    {
     "data": {
      "text/plain": [
       "88"
      ]
     },
     "execution_count": 4,
     "metadata": {},
     "output_type": "execute_result"
    }
   ],
   "source": [
    "# lets take the same example of scores with percentile 80.0:\n",
    "Percentile(scores, 80)"
   ]
  },
  {
   "cell_type": "markdown",
   "metadata": {},
   "source": [
    "The implementation of Percentile is not efficient. A better approach is to use the percentile rank to compute the index of the corresponding percentile:"
   ]
  },
  {
   "cell_type": "code",
   "execution_count": 5,
   "metadata": {
    "collapsed": true
   },
   "outputs": [],
   "source": [
    "def Percentile2(scores, percentile_rank):\n",
    "    scores.sort()\n",
    "    index = percentile_rank * (len(scores) - 1) // 100\n",
    "    return scores[index]   "
   ]
  },
  {
   "cell_type": "code",
   "execution_count": 6,
   "metadata": {
    "collapsed": false
   },
   "outputs": [
    {
     "data": {
      "text/plain": [
       "88"
      ]
     },
     "execution_count": 6,
     "metadata": {},
     "output_type": "execute_result"
    }
   ],
   "source": [
    "Percentile2(scores, 80)"
   ]
  },
  {
   "cell_type": "markdown",
   "metadata": {},
   "source": [
    "<a id='subchapter4.3'></a>\n",
    "## 4.3 CDFs "
   ]
  },
  {
   "cell_type": "markdown",
   "metadata": {},
   "source": [
    "Cumulative distribution function (CDF) is a function that maps from values to their cumulative probabilities. CDF(x) is the fraction of the sample less than or equal to x. x is any number that might appear in the distribution. To evaluate CDF(x) for a particular number of x, we compute the fraction of values in the distribution less than or equal to x. \n"
   ]
  },
  {
   "cell_type": "code",
   "execution_count": 7,
   "metadata": {
    "collapsed": false
   },
   "outputs": [],
   "source": [
    "def EvalCdf(sample, x):\n",
    "    count = 0.0\n",
    "    for value in sample:\n",
    "        if value <= x:\n",
    "            count += 1\n",
    "    prob = count / len(sample)\n",
    "    return prob"
   ]
  },
  {
   "cell_type": "markdown",
   "metadata": {},
   "source": [
    "The result of this is a probability between 0 to 1, rather than a percentile between 0 to 100. \n",
    "\n",
    "For example:"
   ]
  },
  {
   "cell_type": "code",
   "execution_count": 8,
   "metadata": {
    "collapsed": false
   },
   "outputs": [
    {
     "data": {
      "text/plain": [
       "0.0"
      ]
     },
     "execution_count": 8,
     "metadata": {},
     "output_type": "execute_result"
    }
   ],
   "source": [
    "sample = [1,2,2,3,5]\n",
    "EvalCdf(sample, 0) # CDF(0)"
   ]
  },
  {
   "cell_type": "code",
   "execution_count": 9,
   "metadata": {
    "collapsed": false
   },
   "outputs": [
    {
     "data": {
      "text/plain": [
       "0.2"
      ]
     },
     "execution_count": 9,
     "metadata": {},
     "output_type": "execute_result"
    }
   ],
   "source": [
    "EvalCdf(sample, 1) # CDF(1)"
   ]
  },
  {
   "cell_type": "code",
   "execution_count": null,
   "metadata": {
    "collapsed": false
   },
   "outputs": [
    {
     "data": {
      "text/plain": [
       "1.0"
      ]
     },
     "execution_count": 10,
     "metadata": {},
     "output_type": "execute_result"
    }
   ],
   "source": [
    "EvalCdf(sample, 5) # CDF(5)"
   ]
  },
  {
   "cell_type": "markdown",
   "metadata": {},
   "source": [
    "We can evaluate the CDF for any value of x, not just values that appear in the sample. If x is less than the smallest value in the sample, CDF(x) is 0. CDF of a sample is a step function. "
   ]
  },
  {
   "cell_type": "markdown",
   "metadata": {},
   "source": [
    "<a id='subchapter4.4'></a>\n",
    "## 4.4 Representing CDFs "
   ]
  },
  {
   "cell_type": "markdown",
   "metadata": {},
   "source": [
    "Thinkstats2 provides a class named Cdf. Here is how it works: \n",
    "\n",
    "- Prob(x): Given a value x, computes the probability p = CDF(x). The bracket operator is equivalent to Prob. \n",
    "\n",
    "- Value(p): Given a probability p, computes the corresponding value, x; that is, the <b>inverse CDF</b> of p.\n",
    "\n",
    "The Cdf constructor can take as an argument a list of values, a pandas Series, a Hist, Pmf and another Cdf. The following code makes a Cdf for the distribution of pregnancy length in the NSFG:"
   ]
  },
  {
   "cell_type": "code",
   "execution_count": null,
   "metadata": {
    "collapsed": false
   },
   "outputs": [
    {
     "name": "stderr",
     "output_type": "stream",
     "text": [
      "//anaconda/lib/python2.7/site-packages/matplotlib/font_manager.py:273: UserWarning: Matplotlib is building the font cache using fc-list. This may take a moment.\n",
      "  warnings.warn('Matplotlib is building the font cache using fc-list. This may take a moment.')\n"
     ]
    }
   ],
   "source": [
    "from __future__ import print_function\n",
    "\n",
    "import math\n",
    "import numpy as np\n",
    "import pandas as pd\n",
    "\n",
    "import nsfg\n",
    "import first\n",
    "import thinkstats2\n",
    "import thinkplot\n",
    "\n",
    "%matplotlib inline"
   ]
  },
  {
   "cell_type": "code",
   "execution_count": null,
   "metadata": {
    "collapsed": true
   },
   "outputs": [],
   "source": [
    "live, firsts, others = first.MakeFrames()\n",
    "cdf = thinkstats2.Cdf(live.prglngth, label='prglngth')"
   ]
  },
  {
   "cell_type": "markdown",
   "metadata": {},
   "source": [
    "thinkplot provides a function named Cdf that plots Cdfs as lines:"
   ]
  },
  {
   "cell_type": "code",
   "execution_count": null,
   "metadata": {
    "collapsed": false
   },
   "outputs": [],
   "source": [
    "thinkplot.Cdf(cdf)\n",
    "thinkplot.Show(xlabel=\"weeks\", ylabel=\"CDF\")"
   ]
  },
  {
   "cell_type": "markdown",
   "metadata": {},
   "source": [
    "One way to read a CDF is to look up percentiles. For example, it looks like about 10% of pregnancies are shorter than 36 weeks, and about 90% are shorter than 41 weeks. The CDF also provides a visual representation of the shape of the distribution. Common values appear as steep or vertical sections of the CDF; in this example, the mode at 39 weeks is apparent. There are few values below 30 weeks, so the CDF in this range is flat."
   ]
  },
  {
   "cell_type": "markdown",
   "metadata": {},
   "source": [
    "<a id='subchapter4.5'></a>\n",
    "## 4.5 Comparing CDFs "
   ]
  },
  {
   "cell_type": "markdown",
   "metadata": {
    "collapsed": true
   },
   "source": [
    "CDFs are especially useful for comparing distributions. For example, here is the code that plots the CDF of birth weight for first babies and others. "
   ]
  },
  {
   "cell_type": "code",
   "execution_count": null,
   "metadata": {
    "collapsed": false
   },
   "outputs": [],
   "source": [
    "first_cdf = thinkstats2.Cdf(firsts.totalwgt_lb, label='first')\n",
    "others_cdf = thinkstats2.Cdf(others.totalwgt_lb, label='others')\n",
    "\n",
    "thinkplot.PrePlot(2)\n",
    "thinkplot.Cdfs([first_cdf, others_cdf])\n",
    "thinkplot.Show(xlabel='weight (pounds)', ylabel='CDF')"
   ]
  },
  {
   "cell_type": "markdown",
   "metadata": {},
   "source": [
    "Compared to the previous plot that compared distributions, this plot makes the shape of the distributions, and the differences between them, much clearer. We can see that first babies are slightly lighter throughout the distribution, with a larger discrepancy above the mean."
   ]
  },
  {
   "cell_type": "markdown",
   "metadata": {},
   "source": [
    "<a id='subchapter4.6'></a>\n",
    "## 4.6 Percentile-based statistics "
   ]
  },
  {
   "cell_type": "markdown",
   "metadata": {},
   "source": [
    "Once you have computed a CDF, it is easy to compute percentiles and percentile ranks. The Cdf class provides these two methods:\n",
    "\n",
    "<b>PercentileRank(x)</b>: Given a value x, computes its percentile rank, 100*CDF(x).\n",
    "\n",
    "<b>Percentile(p)</b>: Given a percentile rank p, computes the corresponding value, x. Equivalent to Value(p/100). Percentile can be used to compute percentile-based summary statistics. For example, finding the median or the interquartile range (IQR). Another option is to use percentile to split the distribution to equaly sized percentiles (20,40, 60, etc.) called quantiles."
   ]
  },
  {
   "cell_type": "markdown",
   "metadata": {},
   "source": [
    "<a id='subchapter4.7'></a>\n",
    "## 4.7 Random numbers "
   ]
  },
  {
   "cell_type": "markdown",
   "metadata": {},
   "source": [
    "Suppose we chose a random sample from the population of live births and look up percentile rank of their birth weight. Suppose we compute the CDF of the percentile ranks. We can assume that the distribution would be uniform (a straight line). "
   ]
  },
  {
   "cell_type": "code",
   "execution_count": null,
   "metadata": {
    "collapsed": false
   },
   "outputs": [],
   "source": [
    "weights = live.totalwgt_lb\n",
    "cdf = thinkstats2.Cdf(weights, label = 'totalwgt_lb')\n",
    "\n",
    "# generating and computing the percentile rank of each value in the sample\n",
    "# sample is a random sample of 100 birth weights chosen with replacement\n",
    "# meaning every value can be chosen more than once \n",
    "sample = np.random.choice(weights, 100, replace=True)\n",
    "ranks = [cdf.PercentileRank(x) for x in sample]\n",
    "\n",
    "# ploting the cdf looks like this:\n",
    "rank_cdf = thinkstats2.Cdf(ranks)\n",
    "thinkplot.Cdf(rank_cdf)\n",
    "thinkplot.Show(xlabel='percentile rank', ylabel='CDF')"
   ]
  },
  {
   "cell_type": "markdown",
   "metadata": {},
   "source": [
    "So regardless of the shape of the CDF, the distribution of percentile ranks is uniform. This property is useful, because it is the basis of a simple and efficient algorithm for generating random numbers with a given CDF. \n",
    "Here's how:\n",
    "\n",
    "- Chose a percentile rank uniformly from the range 0-100. \n",
    "- Use Cdf.Percentile to find the value in the distribution that corresponds to the percentile rank you choose. \n",
    "\n",
    "Cdf provides an implementation of this algorithm, called Random:\n",
    "#class Cdf:\n",
    "    def Random(self):\n",
    "        return self.Percentile(random.uniform(0,100))\n",
    "        \n",
    "Cdf also provides Sample, which takes an integer, n, and return a list of n values chosen at random from the Cdf."
   ]
  },
  {
   "cell_type": "markdown",
   "metadata": {},
   "source": [
    "<a id='subchapter4.8'></a>\n",
    "## 4.8 Comparing percentile ranks"
   ]
  },
  {
   "cell_type": "markdown",
   "metadata": {},
   "source": [
    "Percentile ranks are useful for comparing measurements across different groups. \n",
    "\n",
    "Given position and field size, we can compute percentile rank:"
   ]
  },
  {
   "cell_type": "code",
   "execution_count": null,
   "metadata": {
    "collapsed": true
   },
   "outputs": [],
   "source": [
    "def PositionPercentile(position, field_size):\n",
    "    beat = field_size - position + 1\n",
    "    percentile = 100.0 * beat/field_size\n",
    "    return percentile"
   ]
  },
  {
   "cell_type": "code",
   "execution_count": null,
   "metadata": {
    "collapsed": false,
    "scrolled": true
   },
   "outputs": [],
   "source": [
    "# a runner finishes 26th's from 256 runners. \n",
    "# what is his percentile?\n",
    "PositionPercentile(26, 256)"
   ]
  },
  {
   "cell_type": "code",
   "execution_count": null,
   "metadata": {
    "collapsed": true
   },
   "outputs": [],
   "source": [
    "# what is the 90th percentile in a group of 171 runners?\n",
    "def PercentileToPosition(percentile, field_size):\n",
    "    beat = percentile * field_size / 100.0\n",
    "    position = field_size - beat + 1\n",
    "    return position"
   ]
  },
  {
   "cell_type": "code",
   "execution_count": null,
   "metadata": {
    "collapsed": false
   },
   "outputs": [],
   "source": [
    "PercentileToPosition(90, 171)"
   ]
  },
  {
   "cell_type": "markdown",
   "metadata": {},
   "source": [
    "<a id='subchapter4.9'></a>\n",
    "## 4.9 Exercises"
   ]
  },
  {
   "cell_type": "markdown",
   "metadata": {
    "collapsed": true
   },
   "source": [
    "<b>Exercise 4.1</b>"
   ]
  },
  {
   "cell_type": "markdown",
   "metadata": {},
   "source": [
    "[Exercise 1](chap04ex01.ipynb)\n",
    "\n",
    "[Exercise 1 solution](chap04ex01soln.ipynb)"
   ]
  },
  {
   "cell_type": "markdown",
   "metadata": {},
   "source": [
    "<a id='subchapter4.10'></a>\n",
    "## 4.10 Glossary"
   ]
  },
  {
   "cell_type": "markdown",
   "metadata": {},
   "source": [
    "<b>Percentile rank</b>: The percentage of values in a distribution that are less than or equal to a given value.\n",
    "\n",
    "<b>Percentile</b>: The value associated with a given percentile rank.\n",
    "\n",
    "<b>Cumulative distribution function (CDF)</b>: A function that maps from values to their cumulative probabilities. CDF(x) is the fraction of the sample less than or equal to x.\n",
    "\n",
    "<b>Inverse CDF</b>: A function that maps from a cumulative probability, p, to the corresponding value.\n",
    "\n",
    "<b>Median</b>: The 50th percentile, often used as a measure of central ten- dency.\n",
    "\n",
    "<b>Interquartile range</b>: The difference between the 75th and 25th per- centiles, used as a measure of spread.\n",
    "\n",
    "<b>Quantile</b>: A sequence of values that correspond to equally spaced per- centile ranks; for example, the quartiles of a distribution are the 25th, 50th and 75th percentiles.\n",
    "\n",
    "<b>Replacement</b>: A property of a sampling process. “With replacement” means that the same value can be chosen more than once; “without replacement” means that once a value is chosen, it is removed from the population."
   ]
  },
  {
   "cell_type": "markdown",
   "metadata": {
    "collapsed": true
   },
   "source": [
    "Next up: [Chapter 5: Modeling distributions](chap05.ipynb)"
   ]
  }
 ],
 "metadata": {
  "kernelspec": {
   "display_name": "Python 2",
   "language": "python",
   "name": "python2"
  },
  "language_info": {
   "codemirror_mode": {
    "name": "ipython",
    "version": 2
   },
   "file_extension": ".py",
   "mimetype": "text/x-python",
   "name": "python",
   "nbconvert_exporter": "python",
   "pygments_lexer": "ipython2",
   "version": "2.7.11"
  }
 },
 "nbformat": 4,
 "nbformat_minor": 0
}
